{
 "cells": [
  {
   "cell_type": "code",
   "execution_count": 9,
   "id": "0c4f9c23-24fb-490e-acd1-c7105fe2e920",
   "metadata": {},
   "outputs": [],
   "source": [
    "import pandas as pd\n",
    "import numpy as np\n",
    "import matplotlib.pyplot as plt\n",
    "from matplotlib import pyplot\n",
    "import seaborn as sns"
   ]
  },
  {
   "cell_type": "markdown",
   "id": "1a8cfc66-3294-4ec6-95c3-7ee285bf3089",
   "metadata": {},
   "source": [
    "# Import Data"
   ]
  },
  {
   "cell_type": "markdown",
   "id": "ad4f3c25-cf6a-459a-bc93-383e88fab2c8",
   "metadata": {},
   "source": [
    "## Training Dataset"
   ]
  },
  {
   "cell_type": "code",
   "execution_count": 12,
   "id": "3a2eb938-5c84-4824-86a9-439c2f220ec9",
   "metadata": {},
   "outputs": [
    {
     "data": {
      "text/html": [
       "<div>\n",
       "<style scoped>\n",
       "    .dataframe tbody tr th:only-of-type {\n",
       "        vertical-align: middle;\n",
       "    }\n",
       "\n",
       "    .dataframe tbody tr th {\n",
       "        vertical-align: top;\n",
       "    }\n",
       "\n",
       "    .dataframe thead th {\n",
       "        text-align: right;\n",
       "    }\n",
       "</style>\n",
       "<table border=\"1\" class=\"dataframe\">\n",
       "  <thead>\n",
       "    <tr style=\"text-align: right;\">\n",
       "      <th></th>\n",
       "      <th>Unnamed: 0</th>\n",
       "      <th>index</th>\n",
       "      <th>labels</th>\n",
       "      <th>0</th>\n",
       "      <th>1</th>\n",
       "      <th>2</th>\n",
       "      <th>3</th>\n",
       "      <th>4</th>\n",
       "      <th>5</th>\n",
       "      <th>6</th>\n",
       "      <th>...</th>\n",
       "      <th>774</th>\n",
       "      <th>775</th>\n",
       "      <th>776</th>\n",
       "      <th>777</th>\n",
       "      <th>778</th>\n",
       "      <th>779</th>\n",
       "      <th>780</th>\n",
       "      <th>781</th>\n",
       "      <th>782</th>\n",
       "      <th>783</th>\n",
       "    </tr>\n",
       "  </thead>\n",
       "  <tbody>\n",
       "    <tr>\n",
       "      <th>0</th>\n",
       "      <td>0</td>\n",
       "      <td>0</td>\n",
       "      <td>5</td>\n",
       "      <td>0</td>\n",
       "      <td>0</td>\n",
       "      <td>0</td>\n",
       "      <td>0</td>\n",
       "      <td>0</td>\n",
       "      <td>0</td>\n",
       "      <td>0</td>\n",
       "      <td>...</td>\n",
       "      <td>0</td>\n",
       "      <td>0</td>\n",
       "      <td>0</td>\n",
       "      <td>0</td>\n",
       "      <td>0</td>\n",
       "      <td>0</td>\n",
       "      <td>0</td>\n",
       "      <td>0</td>\n",
       "      <td>0</td>\n",
       "      <td>0</td>\n",
       "    </tr>\n",
       "    <tr>\n",
       "      <th>1</th>\n",
       "      <td>1</td>\n",
       "      <td>1</td>\n",
       "      <td>0</td>\n",
       "      <td>0</td>\n",
       "      <td>0</td>\n",
       "      <td>0</td>\n",
       "      <td>0</td>\n",
       "      <td>0</td>\n",
       "      <td>0</td>\n",
       "      <td>0</td>\n",
       "      <td>...</td>\n",
       "      <td>0</td>\n",
       "      <td>0</td>\n",
       "      <td>0</td>\n",
       "      <td>0</td>\n",
       "      <td>0</td>\n",
       "      <td>0</td>\n",
       "      <td>0</td>\n",
       "      <td>0</td>\n",
       "      <td>0</td>\n",
       "      <td>0</td>\n",
       "    </tr>\n",
       "    <tr>\n",
       "      <th>2</th>\n",
       "      <td>2</td>\n",
       "      <td>2</td>\n",
       "      <td>4</td>\n",
       "      <td>0</td>\n",
       "      <td>0</td>\n",
       "      <td>0</td>\n",
       "      <td>0</td>\n",
       "      <td>0</td>\n",
       "      <td>0</td>\n",
       "      <td>0</td>\n",
       "      <td>...</td>\n",
       "      <td>0</td>\n",
       "      <td>0</td>\n",
       "      <td>0</td>\n",
       "      <td>0</td>\n",
       "      <td>0</td>\n",
       "      <td>0</td>\n",
       "      <td>0</td>\n",
       "      <td>0</td>\n",
       "      <td>0</td>\n",
       "      <td>0</td>\n",
       "    </tr>\n",
       "    <tr>\n",
       "      <th>3</th>\n",
       "      <td>3</td>\n",
       "      <td>3</td>\n",
       "      <td>1</td>\n",
       "      <td>0</td>\n",
       "      <td>0</td>\n",
       "      <td>0</td>\n",
       "      <td>0</td>\n",
       "      <td>0</td>\n",
       "      <td>0</td>\n",
       "      <td>0</td>\n",
       "      <td>...</td>\n",
       "      <td>0</td>\n",
       "      <td>0</td>\n",
       "      <td>0</td>\n",
       "      <td>0</td>\n",
       "      <td>0</td>\n",
       "      <td>0</td>\n",
       "      <td>0</td>\n",
       "      <td>0</td>\n",
       "      <td>0</td>\n",
       "      <td>0</td>\n",
       "    </tr>\n",
       "    <tr>\n",
       "      <th>4</th>\n",
       "      <td>4</td>\n",
       "      <td>4</td>\n",
       "      <td>9</td>\n",
       "      <td>0</td>\n",
       "      <td>0</td>\n",
       "      <td>0</td>\n",
       "      <td>0</td>\n",
       "      <td>0</td>\n",
       "      <td>0</td>\n",
       "      <td>0</td>\n",
       "      <td>...</td>\n",
       "      <td>0</td>\n",
       "      <td>0</td>\n",
       "      <td>0</td>\n",
       "      <td>0</td>\n",
       "      <td>0</td>\n",
       "      <td>0</td>\n",
       "      <td>0</td>\n",
       "      <td>0</td>\n",
       "      <td>0</td>\n",
       "      <td>0</td>\n",
       "    </tr>\n",
       "  </tbody>\n",
       "</table>\n",
       "<p>5 rows × 787 columns</p>\n",
       "</div>"
      ],
      "text/plain": [
       "   Unnamed: 0  index  labels  0  1  2  3  4  5  6  ...  774  775  776  777  \\\n",
       "0           0      0       5  0  0  0  0  0  0  0  ...    0    0    0    0   \n",
       "1           1      1       0  0  0  0  0  0  0  0  ...    0    0    0    0   \n",
       "2           2      2       4  0  0  0  0  0  0  0  ...    0    0    0    0   \n",
       "3           3      3       1  0  0  0  0  0  0  0  ...    0    0    0    0   \n",
       "4           4      4       9  0  0  0  0  0  0  0  ...    0    0    0    0   \n",
       "\n",
       "   778  779  780  781  782  783  \n",
       "0    0    0    0    0    0    0  \n",
       "1    0    0    0    0    0    0  \n",
       "2    0    0    0    0    0    0  \n",
       "3    0    0    0    0    0    0  \n",
       "4    0    0    0    0    0    0  \n",
       "\n",
       "[5 rows x 787 columns]"
      ]
     },
     "execution_count": 12,
     "metadata": {},
     "output_type": "execute_result"
    }
   ],
   "source": [
    "data = pd.read_csv('C:/Users/anjal/Documents/GitHub/Data-Science-Project/MNIST/MNIST_train.csv')\n",
    "data.head() "
   ]
  },
  {
   "cell_type": "code",
   "execution_count": null,
   "id": "6b40418b-3d16-4c20-8768-e131d0bd6fd0",
   "metadata": {},
   "outputs": [],
   "source": []
  },
  {
   "cell_type": "code",
   "execution_count": 14,
   "id": "e0ed4886-ad20-49c0-9f71-71c9c429ab73",
   "metadata": {},
   "outputs": [
    {
     "data": {
      "text/html": [
       "<div>\n",
       "<style scoped>\n",
       "    .dataframe tbody tr th:only-of-type {\n",
       "        vertical-align: middle;\n",
       "    }\n",
       "\n",
       "    .dataframe tbody tr th {\n",
       "        vertical-align: top;\n",
       "    }\n",
       "\n",
       "    .dataframe thead th {\n",
       "        text-align: right;\n",
       "    }\n",
       "</style>\n",
       "<table border=\"1\" class=\"dataframe\">\n",
       "  <thead>\n",
       "    <tr style=\"text-align: right;\">\n",
       "      <th></th>\n",
       "      <th>NullCounts</th>\n",
       "    </tr>\n",
       "  </thead>\n",
       "  <tbody>\n",
       "  </tbody>\n",
       "</table>\n",
       "</div>"
      ],
      "text/plain": [
       "Empty DataFrame\n",
       "Columns: [NullCounts]\n",
       "Index: []"
      ]
     },
     "execution_count": 14,
     "metadata": {},
     "output_type": "execute_result"
    }
   ],
   "source": [
    "#checking for any null counts for each features\n",
    "\n",
    "null_counts = data.isnull().sum()\n",
    "nan_check_df = pd.DataFrame(null_counts,columns=['NullCounts'])\n",
    "\n",
    "#print('The sum of nulls for each features: \\n{}'.format(null_counts))\n",
    "\n",
    "nan_check_df = nan_check_df[nan_check_df['NullCounts']>0]  \n",
    "nan_check_df"
   ]
  },
  {
   "cell_type": "code",
   "execution_count": 15,
   "id": "6a8e98e4-327a-48bc-9524-33a1cf2416b5",
   "metadata": {
    "scrolled": true
   },
   "outputs": [
    {
     "data": {
      "text/plain": [
       "array([[    0,     0,     5, ...,     0,     0,     0],\n",
       "       [    1,     1,     0, ...,     0,     0,     0],\n",
       "       [    2,     2,     4, ...,     0,     0,     0],\n",
       "       ...,\n",
       "       [59997, 59997,     5, ...,     0,     0,     0],\n",
       "       [59998, 59998,     6, ...,     0,     0,     0],\n",
       "       [59999, 59999,     8, ...,     0,     0,     0]], dtype=int64)"
      ]
     },
     "execution_count": 15,
     "metadata": {},
     "output_type": "execute_result"
    }
   ],
   "source": [
    "#Converting the dataframe to matrix\n",
    "X = data.to_numpy()  \n",
    "X"
   ]
  },
  {
   "cell_type": "code",
   "execution_count": 16,
   "id": "3b2573c8-964e-4c23-a054-f0cb27c5713d",
   "metadata": {},
   "outputs": [
    {
     "data": {
      "text/plain": [
       "(60000, 787)"
      ]
     },
     "execution_count": 16,
     "metadata": {},
     "output_type": "execute_result"
    }
   ],
   "source": [
    "#shape of the dataset\n",
    "X.shape"
   ]
  },
  {
   "cell_type": "code",
   "execution_count": 17,
   "id": "ce6513be-7b5d-4456-89a0-2b55d307b245",
   "metadata": {},
   "outputs": [
    {
     "data": {
      "text/plain": [
       "array([5, 0, 4, ..., 5, 6, 8], dtype=int64)"
      ]
     },
     "execution_count": 17,
     "metadata": {},
     "output_type": "execute_result"
    }
   ],
   "source": [
    "#datapoints to store the targets of MNIST dataset\n",
    "y = X[:,2]\n",
    "y"
   ]
  },
  {
   "cell_type": "code",
   "execution_count": 18,
   "id": "ff5a09ad-1a37-409a-b4b4-71b5cee397f0",
   "metadata": {},
   "outputs": [
    {
     "data": {
      "text/plain": [
       "(60000, 784)"
      ]
     },
     "execution_count": 18,
     "metadata": {},
     "output_type": "execute_result"
    }
   ],
   "source": [
    "#datapoints to store all the features of MNIST dataset\n",
    "X = X[:,3:]\n",
    "X.shape"
   ]
  },
  {
   "cell_type": "code",
   "execution_count": 19,
   "id": "f7e463c9-1ffa-4ad0-8160-669ada2f664f",
   "metadata": {},
   "outputs": [
    {
     "data": {
      "text/plain": [
       "array([[0, 0, 0, ..., 0, 0, 0],\n",
       "       [0, 0, 0, ..., 0, 0, 0],\n",
       "       [0, 0, 0, ..., 0, 0, 0],\n",
       "       ...,\n",
       "       [0, 0, 0, ..., 0, 0, 0],\n",
       "       [0, 0, 0, ..., 0, 0, 0],\n",
       "       [0, 0, 0, ..., 0, 0, 0]], dtype=int64)"
      ]
     },
     "execution_count": 19,
     "metadata": {},
     "output_type": "execute_result"
    }
   ],
   "source": [
    "X"
   ]
  },
  {
   "cell_type": "markdown",
   "id": "d59f3029-f42f-4232-a935-ab670e19f9bd",
   "metadata": {},
   "source": [
    "## Testing Dataset"
   ]
  },
  {
   "cell_type": "code",
   "execution_count": 21,
   "id": "cfc7df08-0db8-4761-9ddc-06bedb80bb07",
   "metadata": {},
   "outputs": [
    {
     "data": {
      "text/html": [
       "<div>\n",
       "<style scoped>\n",
       "    .dataframe tbody tr th:only-of-type {\n",
       "        vertical-align: middle;\n",
       "    }\n",
       "\n",
       "    .dataframe tbody tr th {\n",
       "        vertical-align: top;\n",
       "    }\n",
       "\n",
       "    .dataframe thead th {\n",
       "        text-align: right;\n",
       "    }\n",
       "</style>\n",
       "<table border=\"1\" class=\"dataframe\">\n",
       "  <thead>\n",
       "    <tr style=\"text-align: right;\">\n",
       "      <th></th>\n",
       "      <th>Unnamed: 0</th>\n",
       "      <th>index</th>\n",
       "      <th>labels</th>\n",
       "      <th>0</th>\n",
       "      <th>1</th>\n",
       "      <th>2</th>\n",
       "      <th>3</th>\n",
       "      <th>4</th>\n",
       "      <th>5</th>\n",
       "      <th>6</th>\n",
       "      <th>...</th>\n",
       "      <th>774</th>\n",
       "      <th>775</th>\n",
       "      <th>776</th>\n",
       "      <th>777</th>\n",
       "      <th>778</th>\n",
       "      <th>779</th>\n",
       "      <th>780</th>\n",
       "      <th>781</th>\n",
       "      <th>782</th>\n",
       "      <th>783</th>\n",
       "    </tr>\n",
       "  </thead>\n",
       "  <tbody>\n",
       "    <tr>\n",
       "      <th>0</th>\n",
       "      <td>0</td>\n",
       "      <td>0</td>\n",
       "      <td>7</td>\n",
       "      <td>0</td>\n",
       "      <td>0</td>\n",
       "      <td>0</td>\n",
       "      <td>0</td>\n",
       "      <td>0</td>\n",
       "      <td>0</td>\n",
       "      <td>0</td>\n",
       "      <td>...</td>\n",
       "      <td>0</td>\n",
       "      <td>0</td>\n",
       "      <td>0</td>\n",
       "      <td>0</td>\n",
       "      <td>0</td>\n",
       "      <td>0</td>\n",
       "      <td>0</td>\n",
       "      <td>0</td>\n",
       "      <td>0</td>\n",
       "      <td>0</td>\n",
       "    </tr>\n",
       "    <tr>\n",
       "      <th>1</th>\n",
       "      <td>1</td>\n",
       "      <td>1</td>\n",
       "      <td>2</td>\n",
       "      <td>0</td>\n",
       "      <td>0</td>\n",
       "      <td>0</td>\n",
       "      <td>0</td>\n",
       "      <td>0</td>\n",
       "      <td>0</td>\n",
       "      <td>0</td>\n",
       "      <td>...</td>\n",
       "      <td>0</td>\n",
       "      <td>0</td>\n",
       "      <td>0</td>\n",
       "      <td>0</td>\n",
       "      <td>0</td>\n",
       "      <td>0</td>\n",
       "      <td>0</td>\n",
       "      <td>0</td>\n",
       "      <td>0</td>\n",
       "      <td>0</td>\n",
       "    </tr>\n",
       "    <tr>\n",
       "      <th>2</th>\n",
       "      <td>2</td>\n",
       "      <td>2</td>\n",
       "      <td>1</td>\n",
       "      <td>0</td>\n",
       "      <td>0</td>\n",
       "      <td>0</td>\n",
       "      <td>0</td>\n",
       "      <td>0</td>\n",
       "      <td>0</td>\n",
       "      <td>0</td>\n",
       "      <td>...</td>\n",
       "      <td>0</td>\n",
       "      <td>0</td>\n",
       "      <td>0</td>\n",
       "      <td>0</td>\n",
       "      <td>0</td>\n",
       "      <td>0</td>\n",
       "      <td>0</td>\n",
       "      <td>0</td>\n",
       "      <td>0</td>\n",
       "      <td>0</td>\n",
       "    </tr>\n",
       "    <tr>\n",
       "      <th>3</th>\n",
       "      <td>3</td>\n",
       "      <td>3</td>\n",
       "      <td>0</td>\n",
       "      <td>0</td>\n",
       "      <td>0</td>\n",
       "      <td>0</td>\n",
       "      <td>0</td>\n",
       "      <td>0</td>\n",
       "      <td>0</td>\n",
       "      <td>0</td>\n",
       "      <td>...</td>\n",
       "      <td>0</td>\n",
       "      <td>0</td>\n",
       "      <td>0</td>\n",
       "      <td>0</td>\n",
       "      <td>0</td>\n",
       "      <td>0</td>\n",
       "      <td>0</td>\n",
       "      <td>0</td>\n",
       "      <td>0</td>\n",
       "      <td>0</td>\n",
       "    </tr>\n",
       "    <tr>\n",
       "      <th>4</th>\n",
       "      <td>4</td>\n",
       "      <td>4</td>\n",
       "      <td>4</td>\n",
       "      <td>0</td>\n",
       "      <td>0</td>\n",
       "      <td>0</td>\n",
       "      <td>0</td>\n",
       "      <td>0</td>\n",
       "      <td>0</td>\n",
       "      <td>0</td>\n",
       "      <td>...</td>\n",
       "      <td>0</td>\n",
       "      <td>0</td>\n",
       "      <td>0</td>\n",
       "      <td>0</td>\n",
       "      <td>0</td>\n",
       "      <td>0</td>\n",
       "      <td>0</td>\n",
       "      <td>0</td>\n",
       "      <td>0</td>\n",
       "      <td>0</td>\n",
       "    </tr>\n",
       "  </tbody>\n",
       "</table>\n",
       "<p>5 rows × 787 columns</p>\n",
       "</div>"
      ],
      "text/plain": [
       "   Unnamed: 0  index  labels  0  1  2  3  4  5  6  ...  774  775  776  777  \\\n",
       "0           0      0       7  0  0  0  0  0  0  0  ...    0    0    0    0   \n",
       "1           1      1       2  0  0  0  0  0  0  0  ...    0    0    0    0   \n",
       "2           2      2       1  0  0  0  0  0  0  0  ...    0    0    0    0   \n",
       "3           3      3       0  0  0  0  0  0  0  0  ...    0    0    0    0   \n",
       "4           4      4       4  0  0  0  0  0  0  0  ...    0    0    0    0   \n",
       "\n",
       "   778  779  780  781  782  783  \n",
       "0    0    0    0    0    0    0  \n",
       "1    0    0    0    0    0    0  \n",
       "2    0    0    0    0    0    0  \n",
       "3    0    0    0    0    0    0  \n",
       "4    0    0    0    0    0    0  \n",
       "\n",
       "[5 rows x 787 columns]"
      ]
     },
     "execution_count": 21,
     "metadata": {},
     "output_type": "execute_result"
    }
   ],
   "source": [
    "data_test = pd.read_csv(\"C:/Users/anjal/Documents/GitHub/Data-Science-Project/MNIST/MNIST_test.csv\")\n",
    "data_test.head() "
   ]
  },
  {
   "cell_type": "code",
   "execution_count": 22,
   "id": "45f058c9-8ed3-430b-8224-5e4f21347339",
   "metadata": {},
   "outputs": [
    {
     "data": {
      "text/plain": [
       "(10000, 787)"
      ]
     },
     "execution_count": 22,
     "metadata": {},
     "output_type": "execute_result"
    }
   ],
   "source": [
    "X_test = data_test.to_numpy()\n",
    "X_test.shape"
   ]
  },
  {
   "cell_type": "code",
   "execution_count": 23,
   "id": "a72c8ee4-eabb-44af-aae8-028d99799785",
   "metadata": {},
   "outputs": [
    {
     "data": {
      "text/plain": [
       "(10000,)"
      ]
     },
     "execution_count": 23,
     "metadata": {},
     "output_type": "execute_result"
    }
   ],
   "source": [
    "y_test = X_test[:,2]\n",
    "y_test.shape"
   ]
  },
  {
   "cell_type": "code",
   "execution_count": 24,
   "id": "d486f879-de65-482f-b62c-8d72b4506a7e",
   "metadata": {},
   "outputs": [
    {
     "data": {
      "text/plain": [
       "(10000, 784)"
      ]
     },
     "execution_count": 24,
     "metadata": {},
     "output_type": "execute_result"
    }
   ],
   "source": [
    "X_test = X_test[:,3:]\n",
    "X_test.shape"
   ]
  },
  {
   "cell_type": "markdown",
   "id": "01a1fd3e-7378-448e-bf68-12afe7e58871",
   "metadata": {},
   "source": [
    "# Visualisations"
   ]
  },
  {
   "cell_type": "code",
   "execution_count": 26,
   "id": "495b0cc9-95e1-4429-ab8d-1cb3096cfbc2",
   "metadata": {},
   "outputs": [],
   "source": [
    "def show_me(X):\n",
    "    plt.imshow(X.reshape(28,28))\n",
    "\n",
    "\n",
    "def show_me_all_mean(X, y, k):\n",
    "    show_me(sum(X[ y==k, :]/len(X[ y==k, :])))"
   ]
  },
  {
   "cell_type": "code",
   "execution_count": 27,
   "id": "e84a5307-74b9-41ad-956e-fdbfa81bfab4",
   "metadata": {},
   "outputs": [
    {
     "data": {
      "image/png": "[encoded data removed]",
      "text/plain": [
       "<Figure size 640x480 with 1 Axes>"
      ]
     },
     "metadata": {},
     "output_type": "display_data"
    }
   ],
   "source": [
    "show_me_all_mean(X, y, 5)"
   ]
  },
  {
   "cell_type": "markdown",
   "id": "58818da0-4299-4eb2-8d17-c5e63417d5a1",
   "metadata": {},
   "source": [
    "# Model Selection"
   ]
  },
  {
   "cell_type": "markdown",
   "id": "83779bab-59fb-4251-aee6-a5f12767abc4",
   "metadata": {},
   "source": [
    "## Naive Baeyes Model"
   ]
  },
  {
   "cell_type": "code",
   "execution_count": null,
   "id": "beb79bec-0421-410f-b223-5692daaaed5d",
   "metadata": {},
   "outputs": [],
   "source": []
  },
  {
   "cell_type": "code",
   "execution_count": 31,
   "id": "8ed908e1-9574-476e-8d78-a49ea02a819d",
   "metadata": {},
   "outputs": [],
   "source": [
    "from scipy.stats import multivariate_normal as mvn"
   ]
  },
  {
   "cell_type": "code",
   "execution_count": 32,
   "id": "5a83e829-8247-4e13-b625-1cf78b99f177",
   "metadata": {},
   "outputs": [],
   "source": [
    "class GaussNB():\n",
    "\n",
    "    def fit(self, X, y, epsilon = 6e2):\n",
    "        self.likelihoods = dict()\n",
    "        self.priors = dict()\n",
    "        self.K =set(y.astype(int))\n",
    "\n",
    "        for k in self.K:\n",
    "          X_k = X[y==k]\n",
    "          # Naive Assumption: Observations are linearly independent of each other\n",
    "          self.likelihoods[k] ={\"mean\": X_k.mean(axis=0), \"cov\":X_k.var(axis=0)+epsilon}\n",
    "          self.priors[k] = len(X_k)/len(X)\n",
    "\n",
    "    \n",
    "    def predict(self, X):\n",
    "        N , D = X.shape\n",
    "        P_hat = np.zeros((N,len(self.K)))\n",
    "\n",
    "        for k , l in self.likelihoods.items():\n",
    "          P_hat[:,k] = mvn.logpdf(X, l[\"mean\"], l[\"cov\"])+np.log(self.priors[k])\n",
    "\n",
    "        return P_hat.argmax(axis=1)  "
   ]
  },
  {
   "cell_type": "code",
   "execution_count": 34,
   "id": "4031def0-a0ba-493a-bc3e-65b896f0cfd6",
   "metadata": {},
   "outputs": [],
   "source": [
    "gnb = GaussNB()"
   ]
  },
  {
   "cell_type": "code",
   "execution_count": 35,
   "id": "1a3d83aa-2afa-41d4-a421-3a2a3d20c335",
   "metadata": {},
   "outputs": [],
   "source": [
    "gnb.fit(X,y)"
   ]
  },
  {
   "cell_type": "code",
   "execution_count": 36,
   "id": "10cbe808-4632-4f4a-b284-0b630fdfa1ac",
   "metadata": {},
   "outputs": [],
   "source": [
    "y_hat = gnb.predict(X)"
   ]
  },
  {
   "cell_type": "markdown",
   "id": "ee606a97-0083-4442-8389-795165633068",
   "metadata": {},
   "source": [
    "### Testing Naive Baeyes"
   ]
  },
  {
   "cell_type": "code",
   "execution_count": 38,
   "id": "18665261-a54f-46c4-8977-dfb94349c94f",
   "metadata": {},
   "outputs": [],
   "source": [
    "y_hat_test = gnb.predict(X_test)"
   ]
  },
  {
   "cell_type": "code",
   "execution_count": 39,
   "id": "ad7a39fc-aafb-440f-87be-5a8a9cf3cf24",
   "metadata": {},
   "outputs": [],
   "source": [
    "def accuracy(y, y_hat):\n",
    "    return np.mean(y==y_hat)"
   ]
  },
  {
   "cell_type": "markdown",
   "id": "a7dc9c0b-e5af-4671-b2ad-49ebf947498b",
   "metadata": {},
   "source": [
    "#### Training Accuracy"
   ]
  },
  {
   "cell_type": "code",
   "execution_count": 41,
   "id": "7dcd9064-d143-4c82-b1de-f0da654739cb",
   "metadata": {},
   "outputs": [
    {
     "data": {
      "text/plain": [
       "0.8010833333333334"
      ]
     },
     "execution_count": 41,
     "metadata": {},
     "output_type": "execute_result"
    }
   ],
   "source": [
    "accuracy(y,y_hat)"
   ]
  },
  {
   "cell_type": "markdown",
   "id": "68cdb983-5fa2-4502-9a0d-acd33e96743a",
   "metadata": {},
   "source": [
    "#### Testing Accuracy"
   ]
  },
  {
   "cell_type": "code",
   "execution_count": 43,
   "id": "ad9e4609-d6b6-4266-b3a6-4743095c143c",
   "metadata": {},
   "outputs": [
    {
     "data": {
      "text/plain": [
       "0.8121"
      ]
     },
     "execution_count": 43,
     "metadata": {},
     "output_type": "execute_result"
    }
   ],
   "source": [
    "accuracy(y_test,y_hat_test)"
   ]
  },
  {
   "cell_type": "markdown",
   "id": "6cca9c68-1ce2-4926-82c8-8991931592cb",
   "metadata": {},
   "source": [
    "## Non-Naive Baiyes"
   ]
  },
  {
   "cell_type": "code",
   "execution_count": 61,
   "id": "0afb36a8-bc9e-4f5b-bad6-61e28c1dc9cd",
   "metadata": {},
   "outputs": [],
   "source": [
    "class GaussBayes():\n",
    "\n",
    "    def fit(self, X, y, epsilon = 1e-2):\n",
    "        self.likelihoods = dict()\n",
    "        self.priors = dict()\n",
    "        self.K = set(y.astype(int))\n",
    "\n",
    "        for k in self.K:\n",
    "            X_k = X[y==k,:]\n",
    "            N_k, D = X_k.shape\n",
    "            mu_k = X_k.mean(axis = 0)\n",
    "\n",
    "            self.likelihoods[k] = {\"mean\":mu_k, \"cov\":1/(N_k - 1)*np.matmul((X_k-mu_k).T,X_k-mu_k) + epsilon*np.identity(D)}\n",
    "            self.priors[k] = len(X_k)/len(X)\n",
    "\n",
    "\n",
    "    def predict(self, X):\n",
    "        N, D = X.shape\n",
    "        P_hat = np.zeros((N, len(self.K)))\n",
    "        for k, l in self.likelihoods.items():\n",
    "            P_hat[:,k] = mvn.logpdf(X,l[\"mean\"], l[\"cov\"]) + np.log(self.priors[k])\n",
    "        return P_hat.argmax(axis = 1)"
   ]
  },
  {
   "cell_type": "code",
   "execution_count": 62,
   "id": "242e22ba-0d88-41a8-84c1-51dc859ecb85",
   "metadata": {},
   "outputs": [],
   "source": [
    "nonNaive = GaussBayes()"
   ]
  },
  {
   "cell_type": "code",
   "execution_count": 64,
   "id": "921a0a8d-50b4-437f-b8a7-9cbd6016b21b",
   "metadata": {},
   "outputs": [],
   "source": [
    "nonNaive.fit(X,y)"
   ]
  },
  {
   "cell_type": "markdown",
   "id": "28269727-dc2a-4cc5-b9a1-449e9e7e3554",
   "metadata": {},
   "source": [
    "### Testing Non-Naive Baeyes"
   ]
  },
  {
   "cell_type": "code",
   "execution_count": 66,
   "id": "fb72e74d-a232-4837-9f60-583371eeab76",
   "metadata": {},
   "outputs": [],
   "source": [
    "y_hat = nonNaive.predict(X)"
   ]
  },
  {
   "cell_type": "code",
   "execution_count": 67,
   "id": "88d06953-f54a-41de-8a95-0b218c0f1061",
   "metadata": {},
   "outputs": [],
   "source": [
    "y_hat_test = nonNaive.predict(X_test)"
   ]
  },
  {
   "cell_type": "code",
   "execution_count": 68,
   "id": "43c6c166-46d0-4c5a-91d0-66e8d80c98c2",
   "metadata": {},
   "outputs": [],
   "source": [
    "def accuracy(y, y_hat):\n",
    "    return np.mean(y==y_hat)"
   ]
  },
  {
   "cell_type": "markdown",
   "id": "88d2e1e1-dd70-4621-a2bb-09e352f065f9",
   "metadata": {},
   "source": [
    "#### Training Accuracy"
   ]
  },
  {
   "cell_type": "code",
   "execution_count": 70,
   "id": "5fbaabbd-d507-416a-bb05-14f1222dcd05",
   "metadata": {},
   "outputs": [
    {
     "data": {
      "text/plain": [
       "0.81035"
      ]
     },
     "execution_count": 70,
     "metadata": {},
     "output_type": "execute_result"
    }
   ],
   "source": [
    "accuracy(y,y_hat)"
   ]
  },
  {
   "cell_type": "markdown",
   "id": "3a40aeee-2293-42ec-88b1-c243c7428bdf",
   "metadata": {},
   "source": [
    "#### Testing Accuracy"
   ]
  },
  {
   "cell_type": "code",
   "execution_count": 72,
   "id": "1092107c-bfea-44cd-8953-38ade58cce04",
   "metadata": {},
   "outputs": [
    {
     "data": {
      "text/plain": [
       "0.7809"
      ]
     },
     "execution_count": 72,
     "metadata": {},
     "output_type": "execute_result"
    }
   ],
   "source": [
    "accuracy(y_test,y_hat_test)"
   ]
  },
  {
   "cell_type": "markdown",
   "id": "72ad3370-4484-4d5d-8d4e-a6c9784dc271",
   "metadata": {},
   "source": [
    "# K-Nearest Neighbour"
   ]
  },
  {
   "cell_type": "code",
   "execution_count": 74,
   "id": "e281e815-b77b-4488-8b4d-007b9a84f6ac",
   "metadata": {},
   "outputs": [],
   "source": [
    "class KNNClassifier():\n",
    "\n",
    "    def fit(self, X, y):\n",
    "        self.X = X\n",
    "        self.y = y\n",
    "\n",
    "\n",
    "    def predict(self, X, K, epsilon=1e-3):\n",
    "\n",
    "        N = len(X)\n",
    "        y_hat = np.zeros(N)\n",
    "\n",
    "        for i in range(N):\n",
    "            dist2 = np.sum(((self.X - X[i])**2),axis = 1)\n",
    "            idxt = np.argsort(dist2)[:K]\n",
    "            gamma_k = 1/(np.sqrt(dist2[idxt] + epsilon))\n",
    "\n",
    "            y_hat[i] = np.bincount(self.y[idxt], weights = gamma_k).argmax()\n",
    "\n",
    "        return y_hat "
   ]
  },
  {
   "cell_type": "code",
   "execution_count": 75,
   "id": "153e7f67-db3d-46aa-9848-3f5477f8ff4d",
   "metadata": {},
   "outputs": [],
   "source": [
    "knnclass =  KNNClassifier()"
   ]
  },
  {
   "cell_type": "code",
   "execution_count": 76,
   "id": "3f5e64f6-6940-4686-a4c3-abcea1f559ba",
   "metadata": {},
   "outputs": [],
   "source": [
    "knnclass.fit(X,y)"
   ]
  },
  {
   "cell_type": "code",
   "execution_count": null,
   "id": "a2b28a35-adb4-4dd7-94a9-7c37359d98cc",
   "metadata": {},
   "outputs": [],
   "source": [
    "y_hat = knnclass.predict(X,3)"
   ]
  },
  {
   "cell_type": "code",
   "execution_count": null,
   "id": "ff63d8ac-40a9-41c2-a1df-bbaa9f71c9ef",
   "metadata": {},
   "outputs": [],
   "source": []
  },
  {
   "cell_type": "markdown",
   "id": "28ee670d-712c-4ca1-9717-79a425210e53",
   "metadata": {},
   "source": [
    "### Testing KNN"
   ]
  },
  {
   "cell_type": "code",
   "execution_count": null,
   "id": "f06c325c-e5a8-4b3c-97dd-bf3d272eb8ce",
   "metadata": {},
   "outputs": [],
   "source": [
    "y_hat = knnclass.predict(X)"
   ]
  },
  {
   "cell_type": "code",
   "execution_count": 100,
   "id": "dcb8b3e7-9309-4081-bbae-cac3cb1df631",
   "metadata": {},
   "outputs": [],
   "source": [
    "y_hat_test = knnclass.predict(X_test,3)"
   ]
  },
  {
   "cell_type": "markdown",
   "id": "fd36d2bd-835c-40c2-82e5-a302e1391528",
   "metadata": {},
   "source": [
    "#### Training Accuracy"
   ]
  },
  {
   "cell_type": "code",
   "execution_count": null,
   "id": "4d6c7a0d-7724-4a1f-8aee-c38cb326c68d",
   "metadata": {},
   "outputs": [],
   "source": [
    "accuracy(y,y_hat)"
   ]
  },
  {
   "cell_type": "markdown",
   "id": "557a01d2-f0b4-4167-b55f-b04e270c3731",
   "metadata": {},
   "source": [
    "#### Testing Accuracy"
   ]
  },
  {
   "cell_type": "code",
   "execution_count": 102,
   "id": "fe326f0a-6d01-44a6-b919-9294c488f133",
   "metadata": {},
   "outputs": [
    {
     "data": {
      "text/plain": [
       "0.9717"
      ]
     },
     "execution_count": 102,
     "metadata": {},
     "output_type": "execute_result"
    }
   ],
   "source": [
    "accuracy(y_test,y_hat_test)"
   ]
  },
  {
   "cell_type": "code",
   "execution_count": 95,
   "id": "ff95d672-54a2-4805-b97f-72a63ccf9b10",
   "metadata": {},
   "outputs": [
    {
     "data": {
      "text/plain": [
       "0.9691"
      ]
     },
     "execution_count": 95,
     "metadata": {},
     "output_type": "execute_result"
    }
   ],
   "source": [
    "accuracy(y_test,y_hat_test)"
   ]
  },
  {
   "cell_type": "markdown",
   "id": "dfce694a-7061-4138-83fa-5b52a55f99ce",
   "metadata": {},
   "source": [
    "# Visualization"
   ]
  },
  {
   "cell_type": "code",
   "execution_count": 121,
   "id": "1d0b35bb-32d3-4f04-84ad-8c13d0aa48e4",
   "metadata": {},
   "outputs": [
    {
     "data": {
      "image/png": "[encoded data removed]",
      "text/plain": [
       "<Figure size 600x400 with 1 Axes>"
      ]
     },
     "metadata": {},
     "output_type": "display_data"
    }
   ],
   "source": [
    "model_names = ['Naive Baeyes', 'Non-Naive Baeyes', 'KNN CLassifier']\n",
    "accuracies = [81.21, 78.09, 97.17]  # Replace with actual accuracies\n",
    "\n",
    "# Plotting\n",
    "plt.figure(figsize=(6, 4))\n",
    "plt.bar(model_names, accuracies, color=['skyblue', 'salmon', 'lightgreen'])\n",
    "plt.xlabel('Models')\n",
    "plt.ylabel('Accuracy')\n",
    "plt.title('Model Accuracies Comparison')\n",
    "plt.ylim(0, 100)  # Set y-axis from 0 to 1 for accuracy\n",
    "\n",
    "# Display values on top of bars\n",
    "for i, accuracy in enumerate(accuracies):\n",
    "    plt.text(i, accuracy + 0.01, f\"{accuracy:.2f}\", ha='center', va='bottom')\n",
    "\n",
    "plt.show()"
   ]
  },
  {
   "cell_type": "code",
   "execution_count": null,
   "id": "cd354209-7f90-4bf2-a32f-5be3ac99761b",
   "metadata": {},
   "outputs": [],
   "source": []
  }
 ],
 "metadata": {
  "kernelspec": {
   "display_name": "Python 3 (ipykernel)",
   "language": "python",
   "name": "python3"
  },
  "language_info": {
   "codemirror_mode": {
    "name": "ipython",
    "version": 3
   },
   "file_extension": ".py",
   "mimetype": "text/x-python",
   "name": "python",
   "nbconvert_exporter": "python",
   "pygments_lexer": "ipython3",
   "version": "3.12.4"
  }
 },
 "nbformat": 4,
 "nbformat_minor": 5
}
